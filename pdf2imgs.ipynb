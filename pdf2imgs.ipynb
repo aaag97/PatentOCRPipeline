{
 "cells": [
  {
   "cell_type": "code",
   "execution_count": 7,
   "metadata": {},
   "outputs": [],
   "source": [
    "# import module\n",
    "from pdf2image import convert_from_path\n",
    "import os"
   ]
  },
  {
   "cell_type": "code",
   "execution_count": 16,
   "metadata": {},
   "outputs": [],
   "source": [
    "fifty_1617_1650 = ['GB161800009', 'GB162700040','GB163600092','GB162500031','GB162800044']\n",
    "fifty_1650_1700 = ['GB168400241', 'GB168700252','GB169400338','GB169800356','GB169500339']\n",
    "fifty_1700_1750 = ['GB171100387', 'GB174300589', 'GB173500551', 'GB174400598']\n",
    "fifty_1750_1800 = ['GB175300676', 'GB175900740', 'GB176300789', 'GB177301035', 'GB177901212', 'GB177401093', 'GB179602117', 'GB179702165', 'GB179802230']\n",
    "ranges = [(fifty_1617_1650, '1617-1650'), (fifty_1650_1700, '1651-1700'), (fifty_1700_1750, '1701-1750'), (fifty_1750_1800, '1751-1800')]"
   ]
  },
  {
   "cell_type": "code",
   "execution_count": 23,
   "metadata": {},
   "outputs": [],
   "source": [
    "# Store Pdf with convert_from_path function\n",
    "base_path = '/Volumes/Non-Backup_Files/GB-patents/Pre1900'\n",
    "output_path = '/Volumes/Non-Backup_Files/tesseract_pre1900_training/TIFFS/'\n",
    "for range_,range_path in ranges:\n",
    "    for patent in range_:\n",
    "        patent_nb = int(patent[6:])\n",
    "        if patent_nb < 5000:\n",
    "            patent_path = '{}/{}/0-5000/{}A.pdf'.format(base_path,patent[2:6],patent)\n",
    "        elif patent_nb < 10000:\n",
    "            patent_path = '{}/{}/5001-10000/{}A.pdf'.format(base_path,patent[2:6],patent)\n",
    "        else:\n",
    "            patent_path = '{}/{}/10001-/{}A.pdf'.format(base_path,patent[2:6],patent)\n",
    "\n",
    "        images = convert_from_path(patent_path)\n",
    "        image_path = output_path + range_path + '/' + patent\n",
    "        os.mkdir(image_path)\n",
    "        for i in range(len(images)):\n",
    "\n",
    "              # Save pages as images in the pdf\n",
    "\n",
    "            images[i].save(image_path + '/eng.times.' + patent + str(i) +'.tif', 'TIFF')"
   ]
  },
  {
   "cell_type": "code",
   "execution_count": 24,
   "metadata": {},
   "outputs": [],
   "source": [
    "# Store Pdf with convert_from_path function\n",
    "base_path = '/Volumes/Non-Backup_Files/GB-patents/Pre1900'\n",
    "output_path = '/Volumes/Non-Backup_Files/tesseract_pre1900_training/JPGS/'\n",
    "for range_,range_path in ranges:\n",
    "    for patent in range_:\n",
    "        patent_nb = int(patent[6:])\n",
    "        if patent_nb < 5000:\n",
    "            patent_path = '{}/{}/0-5000/{}A.pdf'.format(base_path,patent[2:6],patent)\n",
    "        elif patent_nb < 10000:\n",
    "            patent_path = '{}/{}/5001-10000/{}A.pdf'.format(base_path,patent[2:6],patent)\n",
    "        else:\n",
    "            patent_path = '{}/{}/10001-/{}A.pdf'.format(base_path,patent[2:6],patent)\n",
    "\n",
    "        images = convert_from_path(patent_path)\n",
    "        image_path = output_path + range_path + '/' + patent\n",
    "        os.mkdir(image_path)\n",
    "        for i in range(len(images)):\n",
    "\n",
    "              # Save pages as images in the pdf\n",
    "\n",
    "            images[i].save(image_path + '/eng.times.' + patent + str(i) +'.jpg', 'JPEG')"
   ]
  },
  {
   "cell_type": "code",
   "execution_count": null,
   "metadata": {},
   "outputs": [],
   "source": []
  }
 ],
 "metadata": {
  "kernelspec": {
   "display_name": "Python 3",
   "language": "python",
   "name": "python3"
  },
  "language_info": {
   "codemirror_mode": {
    "name": "ipython",
    "version": 3
   },
   "file_extension": ".py",
   "mimetype": "text/x-python",
   "name": "python",
   "nbconvert_exporter": "python",
   "pygments_lexer": "ipython3",
   "version": "3.6.10"
  }
 },
 "nbformat": 4,
 "nbformat_minor": 4
}
